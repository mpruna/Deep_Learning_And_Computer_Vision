{
 "cells": [
  {
   "cell_type": "code",
   "execution_count": 1,
   "metadata": {},
   "outputs": [],
   "source": [
    "import matplotlib.image as mpimg\n",
    "import matplotlib.pyplot as plt\n",
    "import numpy as np\n",
    "import cv2\n",
    "%matplotlib inline"
   ]
  },
  {
   "cell_type": "code",
   "execution_count": 2,
   "metadata": {},
   "outputs": [],
   "source": [
    "def image_manip(image):\n",
    "    \n",
    "    image=cv2.cvtColor(image,cv2.COLOR_BGR2GRAY)\n",
    "    image_canny=cv2.Canny(image,50, 200, apertureSize = 3)\n",
    "    lines = cv2.HoughLines(image_canny, 1, np.pi/180, 300) #Second and third parameters are \\rho and \\theta accuracies respectively. Fourth argument is the threshold, which means minimum vote\n",
    "    \n",
    "    return image_canny, lines"
   ]
  },
  {
   "cell_type": "markdown",
   "metadata": {},
   "source": [
    "### READ IMAGE"
   ]
  },
  {
   "cell_type": "code",
   "execution_count": 3,
   "metadata": {},
   "outputs": [],
   "source": [
    "#image=cv2.imread('horizontal_vertical.jpg')\n",
    "image=cv2.imread('calendar.jpg')"
   ]
  },
  {
   "cell_type": "markdown",
   "metadata": {},
   "source": [
    "### DISPLAY IMAGE"
   ]
  },
  {
   "cell_type": "code",
   "execution_count": 4,
   "metadata": {},
   "outputs": [],
   "source": [
    "cv2.imshow('Image',image)\n",
    "cv2.waitKey()\n",
    "cv2.destroyAllWindows()"
   ]
  },
  {
   "cell_type": "code",
   "execution_count": 6,
   "metadata": {},
   "outputs": [],
   "source": [
    "image_canny,lines=image_manip(image)"
   ]
  },
  {
   "cell_type": "code",
   "execution_count": 7,
   "metadata": {},
   "outputs": [
    {
     "name": "stdout",
     "output_type": "stream",
     "text": [
      "Length of the lines:  30 \n",
      " Lines dimension:  (30, 1, 2)\n"
     ]
    }
   ],
   "source": [
    "print('Length of the lines: ',str(len(lines)),'\\n','Lines dimension: ',str(lines.shape))"
   ]
  },
  {
   "cell_type": "code",
   "execution_count": 8,
   "metadata": {},
   "outputs": [
    {
     "data": {
      "text/plain": [
       "array([[[  0.       ,   1.5707964]],\n",
       "\n",
       "       [[481.       ,   1.5707964]],\n",
       "\n",
       "       [[105.       ,   1.5707964]],\n",
       "\n",
       "       [[107.       ,   1.5707964]],\n",
       "\n",
       "       [[198.       ,   1.5707964]],\n",
       "\n",
       "       [[200.       ,   1.5707964]],\n",
       "\n",
       "       [[261.       ,   1.5707964]],\n",
       "\n",
       "       [[263.       ,   1.5707964]],\n",
       "\n",
       "       [[389.       ,   1.5707964]],\n",
       "\n",
       "       [[391.       ,   1.5707964]],\n",
       "\n",
       "       [[453.       ,   1.5707964]],\n",
       "\n",
       "       [[455.       ,   1.5707964]],\n",
       "\n",
       "       [[136.       ,   1.5707964]],\n",
       "\n",
       "       [[133.       ,   1.5707964]],\n",
       "\n",
       "       [[  0.       ,   0.       ]],\n",
       "\n",
       "       [[325.       ,   1.5707964]],\n",
       "\n",
       "       [[327.       ,   1.5707964]],\n",
       "\n",
       "       [[624.       ,   0.       ]],\n",
       "\n",
       "       [[432.       ,   0.       ]],\n",
       "\n",
       "       [[194.       ,   0.       ]],\n",
       "\n",
       "       [[196.       ,   0.       ]],\n",
       "\n",
       "       [[430.       ,   0.       ]],\n",
       "\n",
       "       [[117.       ,   0.       ]],\n",
       "\n",
       "       [[272.       ,   0.       ]],\n",
       "\n",
       "       [[351.       ,   0.       ]],\n",
       "\n",
       "       [[274.       ,   0.       ]],\n",
       "\n",
       "       [[353.       ,   0.       ]],\n",
       "\n",
       "       [[115.       ,   0.       ]],\n",
       "\n",
       "       [[ 36.       ,   0.       ]],\n",
       "\n",
       "       [[589.       ,   0.       ]]], dtype=float32)"
      ]
     },
     "execution_count": 8,
     "metadata": {},
     "output_type": "execute_result"
    }
   ],
   "source": [
    "lines"
   ]
  },
  {
   "cell_type": "code",
   "execution_count": null,
   "metadata": {},
   "outputs": [],
   "source": [
    " if lines is not None:\n",
    "        for i in range(0, len(lines)):\n",
    "            '''transformation of the point from polar coordinates to chartesian'''\n",
    "            rho = lines[i][0][0]\n",
    "            theta = lines[i][0][1]\n",
    "            \n",
    "            x0 = rho * np.cos(theta)\n",
    "            y0 = rho * np.sin(theta)\n",
    "            \n",
    "            a = np.cos(theta)\n",
    "            b = np.sin(theta)\n",
    "           \n",
    "            x1 = int(x0 + 1000 * (-b))\n",
    "            y1 = int(y0 + 1000 * (a))\n",
    "            x2 = int(x0 - 1000 * (-b))\n",
    "            y2 = int(y0 - 1000 * (a))\n",
    "            cv2.line(image, (x1, y1), (x2, y2), (255, 0, 0), 2)\n",
    "            \n",
    "cv2.imshow('Hough Lines', image)\n",
    "cv2.waitKey(0)\n",
    "cv2.destroyAllWindows()"
   ]
  },
  {
   "cell_type": "markdown",
   "metadata": {},
   "source": [
    "References:\n",
    "    \n",
    "    * https://docs.opencv.org/2.4/doc/tutorials/imgproc/imgtrans/hough_lines/hough_lines.html\n",
    "    * https://docs.opencv.org/3.0-beta/doc/py_tutorials/py_imgproc/py_houghlines/py_houghlines.html"
   ]
  },
  {
   "cell_type": "code",
   "execution_count": null,
   "metadata": {},
   "outputs": [],
   "source": []
  }
 ],
 "metadata": {
  "kernelspec": {
   "display_name": "Python 3",
   "language": "python",
   "name": "python3"
  },
  "language_info": {
   "codemirror_mode": {
    "name": "ipython",
    "version": 3
   },
   "file_extension": ".py",
   "mimetype": "text/x-python",
   "name": "python",
   "nbconvert_exporter": "python",
   "pygments_lexer": "ipython3",
   "version": "3.6.8"
  }
 },
 "nbformat": 4,
 "nbformat_minor": 2
}
