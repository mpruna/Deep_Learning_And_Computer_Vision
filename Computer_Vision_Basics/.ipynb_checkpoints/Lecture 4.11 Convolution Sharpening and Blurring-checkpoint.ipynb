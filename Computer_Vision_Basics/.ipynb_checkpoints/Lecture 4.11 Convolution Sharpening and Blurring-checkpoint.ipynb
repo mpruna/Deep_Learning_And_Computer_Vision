{
 "cells": [
  {
   "cell_type": "markdown",
   "metadata": {},
   "source": [
    "#  CODE FOR IMAGE MANIPULATIONS (Convolutions - Blurring and Sharpening) "
   ]
  },
  {
   "cell_type": "markdown",
   "metadata": {},
   "source": [
    "# Import all the necessary libraries"
   ]
  },
  {
   "cell_type": "code",
   "execution_count": 1,
   "metadata": {},
   "outputs": [],
   "source": [
    "import matplotlib.image as mpimg\n",
    "import matplotlib.pyplot as plt\n",
    "import numpy as np\n",
    "import cv2"
   ]
  },
  {
   "cell_type": "markdown",
   "metadata": {},
   "source": [
    "# Read the image and display it using OpenCV\n",
    "Download an image from: \n",
    "http://cardesignresearch.com/en/insights/2015/01/driverless-car-design-sleepwalking-into-the-future\n"
   ]
  },
  {
   "cell_type": "code",
   "execution_count": 2,
   "metadata": {
    "scrolled": true
   },
   "outputs": [],
   "source": [
    "import cv2 \n",
    "\n",
    "image = cv2.imread('watchingTV_moving_car.jpg')\n",
    "\n",
    "cv2.imshow('Watching TV in Car!', image)\n",
    "\n",
    "# 'waitKey' allows us to input information when a image window is open\n",
    "# By leaving it blank it just waits for anykey to be pressed before continuing. \n",
    "cv2.waitKey()\n",
    "cv2.destroyAllWindows()"
   ]
  },
  {
   "cell_type": "markdown",
   "metadata": {},
   "source": [
    "# Let's print out the dimensions of the image"
   ]
  },
  {
   "cell_type": "code",
   "execution_count": 3,
   "metadata": {},
   "outputs": [
    {
     "data": {
      "text/plain": [
       "(1043, 1600, 3)"
      ]
     },
     "execution_count": 3,
     "metadata": {},
     "output_type": "execute_result"
    }
   ],
   "source": [
    "image.shape"
   ]
  },
  {
   "cell_type": "code",
   "execution_count": 4,
   "metadata": {},
   "outputs": [],
   "source": [
    "gray_img = cv2.cvtColor(image, cv2.COLOR_BGR2GRAY)\n",
    "cv2.imshow('Watching TV in Car in Gray!', gray_img)\n",
    "cv2.waitKey()\n",
    "cv2.destroyAllWindows()"
   ]
  },
  {
   "cell_type": "markdown",
   "metadata": {},
   "source": [
    "# Let's apply sharpening Kernel"
   ]
  },
  {
   "cell_type": "code",
   "execution_count": 7,
   "metadata": {
    "scrolled": true
   },
   "outputs": [],
   "source": [
    "# Sharpening Kernel #1\n",
    "Sharp_Kernel = np.array([[0,-1,0], \n",
    "                        [-1,5,-1], \n",
    "                        [0,-1,0]])\n",
    "\n",
    "# Sharpening Kernel #2\n",
    "#Sharp_Kernel = np.array([[-1,-1,-1], \n",
    "#                         [-1,9,-1], \n",
    "#                         [-1,-1,-1]])\n",
    "\n",
    "\n",
    "Sharpened_Image = cv2.filter2D(gray_img, -1, Sharp_Kernel)"
   ]
  },
  {
   "cell_type": "code",
   "execution_count": 8,
   "metadata": {},
   "outputs": [],
   "source": [
    "cv2.imshow('Sharpened Image', Sharpened_Image)\n",
    "\n",
    "cv2.waitKey(0)\n",
    "cv2.destroyAllWindows()"
   ]
  },
  {
   "cell_type": "markdown",
   "metadata": {},
   "source": [
    "# Let's try Blurring Kernel"
   ]
  },
  {
   "cell_type": "code",
   "execution_count": 9,
   "metadata": {},
   "outputs": [
    {
     "data": {
      "text/plain": [
       "array([[1., 1., 1.],\n",
       "       [1., 1., 1.],\n",
       "       [1., 1., 1.]])"
      ]
     },
     "execution_count": 9,
     "metadata": {},
     "output_type": "execute_result"
    }
   ],
   "source": [
    "# Blurring Kernel \n",
    "Blurr_Kernel = np.ones((3,3))\n",
    "Blurr_Kernel\n",
    "\n"
   ]
  },
  {
   "cell_type": "code",
   "execution_count": 10,
   "metadata": {},
   "outputs": [],
   "source": [
    "Blurred_Image = cv2.filter2D(gray_img, -1, Blurr_Kernel)"
   ]
  },
  {
   "cell_type": "code",
   "execution_count": 11,
   "metadata": {},
   "outputs": [],
   "source": [
    "cv2.imshow('Blurred Image', Blurred_Image)\n",
    "\n",
    "cv2.waitKey(0)\n",
    "cv2.destroyAllWindows()\n",
    "\n"
   ]
  },
  {
   "cell_type": "markdown",
   "metadata": {},
   "source": [
    "# Let's normalize our Kernel!"
   ]
  },
  {
   "cell_type": "code",
   "execution_count": 12,
   "metadata": {},
   "outputs": [],
   "source": [
    "# Blurring Kernel normalized \n",
    "Blurr_Kernel = np.ones((3,3)) * 1/9\n",
    "Blurr_Kernel\n",
    "\n",
    "Blurred_Image = cv2.filter2D(gray_img, -1, Blurr_Kernel)\n",
    "cv2.imshow('Blurred Image', Blurred_Image)\n",
    "\n",
    "cv2.waitKey(0)\n",
    "cv2.destroyAllWindows()"
   ]
  },
  {
   "cell_type": "markdown",
   "metadata": {},
   "source": [
    "# Let's try larger (more powerful) kernel size"
   ]
  },
  {
   "cell_type": "code",
   "execution_count": 13,
   "metadata": {},
   "outputs": [
    {
     "data": {
      "text/plain": [
       "array([[1., 1., 1., 1., 1., 1., 1., 1.],\n",
       "       [1., 1., 1., 1., 1., 1., 1., 1.],\n",
       "       [1., 1., 1., 1., 1., 1., 1., 1.],\n",
       "       [1., 1., 1., 1., 1., 1., 1., 1.],\n",
       "       [1., 1., 1., 1., 1., 1., 1., 1.],\n",
       "       [1., 1., 1., 1., 1., 1., 1., 1.],\n",
       "       [1., 1., 1., 1., 1., 1., 1., 1.],\n",
       "       [1., 1., 1., 1., 1., 1., 1., 1.]])"
      ]
     },
     "execution_count": 13,
     "metadata": {},
     "output_type": "execute_result"
    }
   ],
   "source": [
    "# Blurring Kernel with missing\n",
    "\n",
    "Blurr_Kernel = np.ones((8,8))\n",
    "Blurr_Kernel\n"
   ]
  },
  {
   "cell_type": "code",
   "execution_count": 14,
   "metadata": {},
   "outputs": [
    {
     "data": {
      "text/plain": [
       "array([[0.015625, 0.015625, 0.015625, 0.015625, 0.015625, 0.015625,\n",
       "        0.015625, 0.015625],\n",
       "       [0.015625, 0.015625, 0.015625, 0.015625, 0.015625, 0.015625,\n",
       "        0.015625, 0.015625],\n",
       "       [0.015625, 0.015625, 0.015625, 0.015625, 0.015625, 0.015625,\n",
       "        0.015625, 0.015625],\n",
       "       [0.015625, 0.015625, 0.015625, 0.015625, 0.015625, 0.015625,\n",
       "        0.015625, 0.015625],\n",
       "       [0.015625, 0.015625, 0.015625, 0.015625, 0.015625, 0.015625,\n",
       "        0.015625, 0.015625],\n",
       "       [0.015625, 0.015625, 0.015625, 0.015625, 0.015625, 0.015625,\n",
       "        0.015625, 0.015625],\n",
       "       [0.015625, 0.015625, 0.015625, 0.015625, 0.015625, 0.015625,\n",
       "        0.015625, 0.015625],\n",
       "       [0.015625, 0.015625, 0.015625, 0.015625, 0.015625, 0.015625,\n",
       "        0.015625, 0.015625]])"
      ]
     },
     "execution_count": 14,
     "metadata": {},
     "output_type": "execute_result"
    }
   ],
   "source": [
    "# Blurring Kernel \n",
    "\n",
    "Blurr_Kernel = np.ones((8,8)) * 1/64\n",
    "Blurr_Kernel\n"
   ]
  },
  {
   "cell_type": "code",
   "execution_count": 15,
   "metadata": {},
   "outputs": [],
   "source": [
    "\n",
    "Blurred_Image = cv2.filter2D(gray_img, -1, Blurr_Kernel)\n",
    "\n",
    "cv2.imshow('Blurred Image', Blurred_Image)\n",
    "\n",
    "cv2.waitKey(0)\n",
    "cv2.destroyAllWindows()"
   ]
  },
  {
   "cell_type": "markdown",
   "metadata": {},
   "source": [
    "# Well done!"
   ]
  }
 ],
 "metadata": {
  "kernelspec": {
   "display_name": "Python 3",
   "language": "python",
   "name": "python3"
  },
  "language_info": {
   "codemirror_mode": {
    "name": "ipython",
    "version": 3
   },
   "file_extension": ".py",
   "mimetype": "text/x-python",
   "name": "python",
   "nbconvert_exporter": "python",
   "pygments_lexer": "ipython3",
   "version": "3.6.5"
  },
  "widgets": {
   "state": {},
   "version": "1.1.2"
  }
 },
 "nbformat": 4,
 "nbformat_minor": 2
}
