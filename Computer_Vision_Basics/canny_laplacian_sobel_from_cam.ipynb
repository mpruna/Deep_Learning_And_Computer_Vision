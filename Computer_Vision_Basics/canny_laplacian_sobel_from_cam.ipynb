{
 "cells": [
  {
   "cell_type": "code",
   "execution_count": null,
   "metadata": {},
   "outputs": [],
   "source": [
    "import matplotlib.image as mpimg\n",
    "import matplotlib.pyplot as plt\n",
    "import numpy as np\n",
    "import cv2"
   ]
  },
  {
   "cell_type": "code",
   "execution_count": null,
   "metadata": {},
   "outputs": [],
   "source": [
    "def getcannyfromweb(image):\n",
    "    \n",
    "    thr_1=30\n",
    "    thr_2=80\n",
    "    \n",
    "    gray_image=cv2.cvtColor(image, cv2.COLOR_BGR2GRAY)\n",
    "    cv2.startWindowThread()\n",
    "    \n",
    "    canny=cv2.Canny(gray_image, thr_1, thr_2)\n",
    "    cv2.imshow('Canny', canny)\n",
    "    cv2.waitKey()\n",
    "    cv2.destroyAllWindows()"
   ]
  },
  {
   "cell_type": "code",
   "execution_count": null,
   "metadata": {},
   "outputs": [],
   "source": [
    "def getlaplacianfromweb(image):\n",
    "    \n",
    "    gray_image=cv2.cvtColor(image, cv2.COLOR_BGR2GRAY)\n",
    "\n",
    "    laplacian=cv2.Laplacian(gray_image,cv2.CV_64F)\n",
    "    cv2.imshow(\"Laplacian\", laplacian)\n",
    "    cv2.waitKey()\n",
    "    cv2.destroyAllwindows()"
   ]
  },
  {
   "cell_type": "code",
   "execution_count": null,
   "metadata": {},
   "outputs": [],
   "source": [
    "def getsobel_x():\n",
    "    \n",
    "    gray_image=cv2.cvtColor(image, cv2.COLOR_BGR2GRAY)\n",
    "\n",
    "    \n",
    "    x_sobel=cv2.Sobel(gray_image,cv2.CV_64F, 0,1, ksize=7)\n",
    "    cv2.imshow(\"X-Sobel\",x_sobel)\n",
    "    cv2.waitKey()\n",
    "    cv2.destroyAllWindos()"
   ]
  },
  {
   "cell_type": "code",
   "execution_count": null,
   "metadata": {},
   "outputs": [],
   "source": [
    "def getsobel_y(image):\n",
    "    \n",
    "    gray_image=cv2.cvtColor(image, cv2.COLOR_BGR2GRAY)\n",
    "    \n",
    "    y_sobel=cv2.Sobel(gray_image, cv2.CV_64F, 1,0, ksize=7)\n",
    "    cv2.imshow(\"Y-Sobel\", y_sobel)\n",
    "    cv2.waitKey()\n",
    "    cv2.destroyAllWindows()"
   ]
  },
  {
   "cell_type": "markdown",
   "metadata": {},
   "source": [
    "### Call function to initialize webcam"
   ]
  },
  {
   "cell_type": "code",
   "execution_count": null,
   "metadata": {},
   "outputs": [],
   "source": [
    "cap=cv2.VideoCapture(0)\n",
    "while True:\n",
    "    ret, frame = cap.read()\n",
    "    cv2.imshow(\"Live Edge Detection\",getcannyfromweb(frame))\n",
    "    cv2.imshow(\"Webcam Video!\", frame)\n",
    "    if cv2.waitkey(1)==13:\n",
    "        break\n",
    "\n",
    "cap.release()\n",
    "cv2.destroyAllWindows()"
   ]
  },
  {
   "cell_type": "code",
   "execution_count": null,
   "metadata": {},
   "outputs": [],
   "source": []
  }
 ],
 "metadata": {
  "kernelspec": {
   "display_name": "Python 3",
   "language": "python",
   "name": "python3"
  },
  "language_info": {
   "codemirror_mode": {
    "name": "ipython",
    "version": 3
   },
   "file_extension": ".py",
   "mimetype": "text/x-python",
   "name": "python",
   "nbconvert_exporter": "python",
   "pygments_lexer": "ipython3",
   "version": "3.6.8"
  }
 },
 "nbformat": 4,
 "nbformat_minor": 2
}
